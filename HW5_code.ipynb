import numpy as np
import matplotlib.pyplot as plt
import scipy
from scipy.constants import Boltzmann as k_B, Planck as h, neutron_mass as m_n


# all functions and flow converted from matlab flow and structure

def initialize_data():
    data = {
        'resonances': [
            (2.885, 0.5, 0.0386, 7.47e-5, 0.038, 5.25e-4),
            (9.975, 0.5, 0.0414, 2.08e-4, 0.037, 4.22e-3),
            (18.6, 0.5, 0.0390, 4.14e-3, 0.034, 8.31e-4),
            (32.2, 0.5, 0.0389, 6.80e-5, 0.034, 4.80e-3),
            (36.6, 0.5, 0.0399, 2.40e-5, 0.034, 5.90e-3),
            (59.8, 0.5, 0.0359, 1.31e-3, 0.034, 6.70e-4),
        ],
        'mass_nucleus': 238 * 1.66053906660e-27  # U38 mass in kg
    }
    return data

def compute_CoM_energy(data):
    return np.linspace(1, 70, 100)  # Energy range (1 to 70 eV)

def compute_lambda_bar(ECoM):
    return h / np.sqrt(2 * m_n * ECoM * 1.60218e-19)

def resonance_reconstruct(data, energies, lamBar):
    capture = []
    fission = []
    for E in energies:
        capture_sum = 0
        fission_sum = 0
        for res in data['resonances']:
            E0, J, Gamma_total, _, Gamma_c, Gamma_f = res
            g = (2 * J + 1) / 2
            gamma = Gamma_total
            denominator = 4 * (E - E0)**2 + gamma**2
            capture_sum += g * Gamma_c * gamma / denominator
            fission_sum += g * Gamma_f * gamma / denominator
        capture.append(capture_sum)
        fission.append(fission_sum)
    return {'capture': np.array(capture), 'fission': np.array(fission)}

def doppler_broaden(sigs, energies, T, M): # broaden with 30000K
    broadened_capture = []
    broadened_fission = []
    kT = k_B * T # k_B is boltzmann
    
    for Ec in energies:
        def integrand(V):
            v_neutron = np.sqrt(2 * Ec * 1.60218e-19 / m_n)
            v_rel = np.abs(v_neutron - V)
            E_shifted = 0.5 * m_n * v_rel**2 / 1.60218e-19
            capture = np.interp(E_shifted, energies, sigs['capture'])
            fission = np.interp(E_shifted, energies, sigs['fission'])
            P = np.exp(-M * V**2 / (2 * kT))
            #print(f"This is P: {P}")
            return capture * P, fission * P

        V_max = np.sqrt(3 * kT / M)
        V_vals = np.linspace(-5 * V_max, 5 * V_max, 1000)
        capture_vals, fission_vals = zip(*[integrand(V) for V in V_vals])
        #broadened_capture.append(np.trapz(capture_vals, V_vals))
        #broadened_fission.append(np.trapz(fission_vals, V_vals))
        broadened_capture.append(np.trapezoid(capture_vals, V_vals))
        broadened_fission.append(np.trapezoid(fission_vals, V_vals))

    return {'capture': np.array(broadened_capture), 'fission': np.array(broadened_fission)}


data = initialize_data()
ECoM = compute_CoM_energy(data)
lamBar = compute_lambda_bar(ECoM)
sigs = resonance_reconstruct(data, ECoM, lamBar)
temperature = 30000  # K
sigsDB = doppler_broaden(sigs, ECoM, temperature, data['mass_nucleus'])



plt.figure(figsize=(10, 6))
plt.plot(ECoM, sigs['capture'], label="Capture (0K)", color="blue")
plt.plot(ECoM, sigs['fission'], label="Fission (0K)", color="red")
#plt.plot(ECoM, sigsDB['capture'], label="Capture (30000K)", linestyle="--", color="blue")
#plt.plot(ECoM, sigsDB['fission'], label="Fission (30000K)", linestyle="--", color="red")
plt.xlabel("Energy (eV)")
plt.ylabel("Cross Section (barns)")
plt.yscale('log')
plt.legend()
plt.grid()
plt.show()

plt.figure(figsize=(10, 6))
#plt.plot(ECoM, sigs['capture'], label="Capture (0K)", color="blue")
#plt.plot(ECoM, sigs['fission'], label="Fission (0K)", color="red")
plt.plot(ECoM, sigsDB['capture'], label="Capture (30000K)", linestyle="--", color="blue")
plt.plot(ECoM, sigsDB['fission'], label="Fission (30000K)", linestyle="--", color="red")
plt.xlabel("Energy (eV)")
plt.ylabel("Cross Section (barns)")
plt.yscale('log')
plt.legend()
plt.grid()
plt.show()


#print(sigs['capture'])
#print()
#print(sigsDB['capture'])
